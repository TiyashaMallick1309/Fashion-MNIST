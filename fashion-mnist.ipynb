{
 "cells": [
  {
   "cell_type": "code",
   "execution_count": 5,
   "metadata": {},
   "outputs": [
    {
     "name": "stdout",
     "output_type": "stream",
     "text": [
      "Requirement already satisfied: tensorflow in c:\\users\\kiit\\anaconda3\\lib\\site-packages (2.12.0)\n",
      "Requirement already satisfied: tensorflow-intel==2.12.0 in c:\\users\\kiit\\anaconda3\\lib\\site-packages (from tensorflow) (2.12.0)\n",
      "Requirement already satisfied: astunparse>=1.6.0 in c:\\users\\kiit\\anaconda3\\lib\\site-packages (from tensorflow-intel==2.12.0->tensorflow) (1.6.3)\n",
      "Requirement already satisfied: libclang>=13.0.0 in c:\\users\\kiit\\anaconda3\\lib\\site-packages (from tensorflow-intel==2.12.0->tensorflow) (15.0.6.1)\n",
      "Requirement already satisfied: keras<2.13,>=2.12.0 in c:\\users\\kiit\\anaconda3\\lib\\site-packages (from tensorflow-intel==2.12.0->tensorflow) (2.12.0)\n",
      "Requirement already satisfied: opt-einsum>=2.3.2 in c:\\users\\kiit\\anaconda3\\lib\\site-packages (from tensorflow-intel==2.12.0->tensorflow) (3.3.0)\n",
      "Requirement already satisfied: numpy<1.24,>=1.22 in c:\\users\\kiit\\anaconda3\\lib\\site-packages (from tensorflow-intel==2.12.0->tensorflow) (1.23.5)\n",
      "Requirement already satisfied: six>=1.12.0 in c:\\users\\kiit\\anaconda3\\lib\\site-packages (from tensorflow-intel==2.12.0->tensorflow) (1.16.0)\n",
      "Requirement already satisfied: tensorboard<2.13,>=2.12 in c:\\users\\kiit\\anaconda3\\lib\\site-packages (from tensorflow-intel==2.12.0->tensorflow) (2.12.2)\n",
      "Requirement already satisfied: wrapt<1.15,>=1.11.0 in c:\\users\\kiit\\anaconda3\\lib\\site-packages (from tensorflow-intel==2.12.0->tensorflow) (1.14.1)\n",
      "Requirement already satisfied: protobuf!=4.21.0,!=4.21.1,!=4.21.2,!=4.21.3,!=4.21.4,!=4.21.5,<5.0.0dev,>=3.20.3 in c:\\users\\kiit\\anaconda3\\lib\\site-packages (from tensorflow-intel==2.12.0->tensorflow) (4.22.3)\n",
      "Requirement already satisfied: tensorflow-io-gcs-filesystem>=0.23.1 in c:\\users\\kiit\\anaconda3\\lib\\site-packages (from tensorflow-intel==2.12.0->tensorflow) (0.31.0)\n",
      "Requirement already satisfied: absl-py>=1.0.0 in c:\\users\\kiit\\anaconda3\\lib\\site-packages (from tensorflow-intel==2.12.0->tensorflow) (1.4.0)\n",
      "Requirement already satisfied: flatbuffers>=2.0 in c:\\users\\kiit\\anaconda3\\lib\\site-packages (from tensorflow-intel==2.12.0->tensorflow) (23.3.3)\n",
      "Requirement already satisfied: grpcio<2.0,>=1.24.3 in c:\\users\\kiit\\anaconda3\\lib\\site-packages (from tensorflow-intel==2.12.0->tensorflow) (1.51.3)\n",
      "Requirement already satisfied: packaging in c:\\users\\kiit\\anaconda3\\lib\\site-packages (from tensorflow-intel==2.12.0->tensorflow) (21.3)\n",
      "Requirement already satisfied: setuptools in c:\\users\\kiit\\anaconda3\\lib\\site-packages (from tensorflow-intel==2.12.0->tensorflow) (63.4.1)\n",
      "Requirement already satisfied: google-pasta>=0.1.1 in c:\\users\\kiit\\anaconda3\\lib\\site-packages (from tensorflow-intel==2.12.0->tensorflow) (0.2.0)\n",
      "Requirement already satisfied: tensorflow-estimator<2.13,>=2.12.0 in c:\\users\\kiit\\anaconda3\\lib\\site-packages (from tensorflow-intel==2.12.0->tensorflow) (2.12.0)\n",
      "Requirement already satisfied: gast<=0.4.0,>=0.2.1 in c:\\users\\kiit\\anaconda3\\lib\\site-packages (from tensorflow-intel==2.12.0->tensorflow) (0.4.0)\n",
      "Requirement already satisfied: termcolor>=1.1.0 in c:\\users\\kiit\\anaconda3\\lib\\site-packages (from tensorflow-intel==2.12.0->tensorflow) (2.2.0)\n",
      "Requirement already satisfied: h5py>=2.9.0 in c:\\users\\kiit\\anaconda3\\lib\\site-packages (from tensorflow-intel==2.12.0->tensorflow) (3.7.0)\n",
      "Requirement already satisfied: jax>=0.3.15 in c:\\users\\kiit\\anaconda3\\lib\\site-packages (from tensorflow-intel==2.12.0->tensorflow) (0.4.8)\n",
      "Requirement already satisfied: typing-extensions>=3.6.6 in c:\\users\\kiit\\anaconda3\\lib\\site-packages (from tensorflow-intel==2.12.0->tensorflow) (4.3.0)\n",
      "Requirement already satisfied: wheel<1.0,>=0.23.0 in c:\\users\\kiit\\anaconda3\\lib\\site-packages (from astunparse>=1.6.0->tensorflow-intel==2.12.0->tensorflow) (0.37.1)\n",
      "Requirement already satisfied: ml-dtypes>=0.0.3 in c:\\users\\kiit\\anaconda3\\lib\\site-packages (from jax>=0.3.15->tensorflow-intel==2.12.0->tensorflow) (0.1.0)\n",
      "Requirement already satisfied: scipy>=1.7 in c:\\users\\kiit\\anaconda3\\lib\\site-packages (from jax>=0.3.15->tensorflow-intel==2.12.0->tensorflow) (1.9.1)\n",
      "Requirement already satisfied: werkzeug>=1.0.1 in c:\\users\\kiit\\anaconda3\\lib\\site-packages (from tensorboard<2.13,>=2.12->tensorflow-intel==2.12.0->tensorflow) (2.0.3)\n",
      "Requirement already satisfied: google-auth-oauthlib<1.1,>=0.5 in c:\\users\\kiit\\anaconda3\\lib\\site-packages (from tensorboard<2.13,>=2.12->tensorflow-intel==2.12.0->tensorflow) (1.0.0)\n",
      "Requirement already satisfied: markdown>=2.6.8 in c:\\users\\kiit\\anaconda3\\lib\\site-packages (from tensorboard<2.13,>=2.12->tensorflow-intel==2.12.0->tensorflow) (3.3.4)\n",
      "Requirement already satisfied: tensorboard-plugin-wit>=1.6.0 in c:\\users\\kiit\\anaconda3\\lib\\site-packages (from tensorboard<2.13,>=2.12->tensorflow-intel==2.12.0->tensorflow) (1.8.1)\n",
      "Requirement already satisfied: google-auth<3,>=1.6.3 in c:\\users\\kiit\\anaconda3\\lib\\site-packages (from tensorboard<2.13,>=2.12->tensorflow-intel==2.12.0->tensorflow) (2.16.2)\n",
      "Requirement already satisfied: tensorboard-data-server<0.8.0,>=0.7.0 in c:\\users\\kiit\\anaconda3\\lib\\site-packages (from tensorboard<2.13,>=2.12->tensorflow-intel==2.12.0->tensorflow) (0.7.0)\n",
      "Requirement already satisfied: requests<3,>=2.21.0 in c:\\users\\kiit\\anaconda3\\lib\\site-packages (from tensorboard<2.13,>=2.12->tensorflow-intel==2.12.0->tensorflow) (2.28.1)\n",
      "Requirement already satisfied: pyparsing!=3.0.5,>=2.0.2 in c:\\users\\kiit\\anaconda3\\lib\\site-packages (from packaging->tensorflow-intel==2.12.0->tensorflow) (3.0.9)\n",
      "Requirement already satisfied: rsa<5,>=3.1.4 in c:\\users\\kiit\\anaconda3\\lib\\site-packages (from google-auth<3,>=1.6.3->tensorboard<2.13,>=2.12->tensorflow-intel==2.12.0->tensorflow) (4.9)\n",
      "Requirement already satisfied: cachetools<6.0,>=2.0.0 in c:\\users\\kiit\\anaconda3\\lib\\site-packages (from google-auth<3,>=1.6.3->tensorboard<2.13,>=2.12->tensorflow-intel==2.12.0->tensorflow) (5.3.0)\n",
      "Requirement already satisfied: pyasn1-modules>=0.2.1 in c:\\users\\kiit\\anaconda3\\lib\\site-packages (from google-auth<3,>=1.6.3->tensorboard<2.13,>=2.12->tensorflow-intel==2.12.0->tensorflow) (0.2.8)\n",
      "Requirement already satisfied: requests-oauthlib>=0.7.0 in c:\\users\\kiit\\anaconda3\\lib\\site-packages (from google-auth-oauthlib<1.1,>=0.5->tensorboard<2.13,>=2.12->tensorflow-intel==2.12.0->tensorflow) (1.3.1)\n",
      "Requirement already satisfied: charset-normalizer<3,>=2 in c:\\users\\kiit\\anaconda3\\lib\\site-packages (from requests<3,>=2.21.0->tensorboard<2.13,>=2.12->tensorflow-intel==2.12.0->tensorflow) (2.0.4)\n",
      "Requirement already satisfied: urllib3<1.27,>=1.21.1 in c:\\users\\kiit\\anaconda3\\lib\\site-packages (from requests<3,>=2.21.0->tensorboard<2.13,>=2.12->tensorflow-intel==2.12.0->tensorflow) (1.26.11)\n",
      "Requirement already satisfied: idna<4,>=2.5 in c:\\users\\kiit\\anaconda3\\lib\\site-packages (from requests<3,>=2.21.0->tensorboard<2.13,>=2.12->tensorflow-intel==2.12.0->tensorflow) (3.3)\n",
      "Requirement already satisfied: certifi>=2017.4.17 in c:\\users\\kiit\\anaconda3\\lib\\site-packages (from requests<3,>=2.21.0->tensorboard<2.13,>=2.12->tensorflow-intel==2.12.0->tensorflow) (2022.9.14)\n",
      "Requirement already satisfied: pyasn1<0.5.0,>=0.4.6 in c:\\users\\kiit\\anaconda3\\lib\\site-packages (from pyasn1-modules>=0.2.1->google-auth<3,>=1.6.3->tensorboard<2.13,>=2.12->tensorflow-intel==2.12.0->tensorflow) (0.4.8)\n",
      "Requirement already satisfied: oauthlib>=3.0.0 in c:\\users\\kiit\\anaconda3\\lib\\site-packages (from requests-oauthlib>=0.7.0->google-auth-oauthlib<1.1,>=0.5->tensorboard<2.13,>=2.12->tensorflow-intel==2.12.0->tensorflow) (3.2.2)\n"
     ]
    }
   ],
   "source": [
    "!pip install tensorflow"
   ]
  },
  {
   "cell_type": "code",
   "execution_count": 3,
   "metadata": {},
   "outputs": [
    {
     "name": "stdout",
     "output_type": "stream",
     "text": [
      "Requirement already satisfied: matplotlib in c:\\users\\kiit\\anaconda3\\lib\\site-packages (3.5.2)\n",
      "Requirement already satisfied: pillow>=6.2.0 in c:\\users\\kiit\\anaconda3\\lib\\site-packages (from matplotlib) (9.2.0)\n",
      "Requirement already satisfied: numpy>=1.17 in c:\\users\\kiit\\anaconda3\\lib\\site-packages (from matplotlib) (1.23.5)\n",
      "Requirement already satisfied: python-dateutil>=2.7 in c:\\users\\kiit\\anaconda3\\lib\\site-packages (from matplotlib) (2.8.2)\n",
      "Requirement already satisfied: kiwisolver>=1.0.1 in c:\\users\\kiit\\anaconda3\\lib\\site-packages (from matplotlib) (1.4.2)\n",
      "Requirement already satisfied: cycler>=0.10 in c:\\users\\kiit\\anaconda3\\lib\\site-packages (from matplotlib) (0.11.0)\n",
      "Requirement already satisfied: packaging>=20.0 in c:\\users\\kiit\\anaconda3\\lib\\site-packages (from matplotlib) (21.3)\n",
      "Requirement already satisfied: fonttools>=4.22.0 in c:\\users\\kiit\\anaconda3\\lib\\site-packages (from matplotlib) (4.25.0)\n",
      "Requirement already satisfied: pyparsing>=2.2.1 in c:\\users\\kiit\\anaconda3\\lib\\site-packages (from matplotlib) (3.0.9)\n",
      "Requirement already satisfied: six>=1.5 in c:\\users\\kiit\\anaconda3\\lib\\site-packages (from python-dateutil>=2.7->matplotlib) (1.16.0)\n"
     ]
    }
   ],
   "source": [
    "!pip install matplotlib"
   ]
  },
  {
   "cell_type": "code",
   "execution_count": 7,
   "metadata": {},
   "outputs": [
    {
     "name": "stdout",
     "output_type": "stream",
     "text": [
      "Requirement already satisfied: pandas in c:\\users\\kiit\\anaconda3\\lib\\site-packages (1.4.4)\n",
      "Requirement already satisfied: python-dateutil>=2.8.1 in c:\\users\\kiit\\anaconda3\\lib\\site-packages (from pandas) (2.8.2)\n",
      "Requirement already satisfied: numpy>=1.18.5 in c:\\users\\kiit\\anaconda3\\lib\\site-packages (from pandas) (1.23.5)\n",
      "Requirement already satisfied: pytz>=2020.1 in c:\\users\\kiit\\anaconda3\\lib\\site-packages (from pandas) (2022.1)\n",
      "Requirement already satisfied: six>=1.5 in c:\\users\\kiit\\anaconda3\\lib\\site-packages (from python-dateutil>=2.8.1->pandas) (1.16.0)\n"
     ]
    }
   ],
   "source": [
    "!pip install pandas"
   ]
  },
  {
   "cell_type": "code",
   "execution_count": 2,
   "metadata": {},
   "outputs": [],
   "source": [
    "import tensorflow as tf\n",
    "from tensorflow import keras\n",
    "import numpy as np\n",
    "import matplotlib.pyplot as plt"
   ]
  },
  {
   "cell_type": "code",
   "execution_count": 3,
   "metadata": {},
   "outputs": [],
   "source": [
    "data=keras.datasets.fashion_mnist"
   ]
  },
  {
   "cell_type": "code",
   "execution_count": 4,
   "metadata": {},
   "outputs": [
    {
     "name": "stdout",
     "output_type": "stream",
     "text": [
      "Downloading data from https://storage.googleapis.com/tensorflow/tf-keras-datasets/train-labels-idx1-ubyte.gz\n",
      "29515/29515 [==============================] - 0s 7us/step\n",
      "Downloading data from https://storage.googleapis.com/tensorflow/tf-keras-datasets/train-images-idx3-ubyte.gz\n",
      "26421880/26421880 [==============================] - 11s 0us/step\n",
      "Downloading data from https://storage.googleapis.com/tensorflow/tf-keras-datasets/t10k-labels-idx1-ubyte.gz\n",
      "5148/5148 [==============================] - 0s 0s/step\n",
      "Downloading data from https://storage.googleapis.com/tensorflow/tf-keras-datasets/t10k-images-idx3-ubyte.gz\n",
      "4422102/4422102 [==============================] - 2s 0us/step\n"
     ]
    }
   ],
   "source": [
    " (train_images, train_labels),(test_images, test_labels)=data.load_data()"
   ]
  },
  {
   "cell_type": "code",
   "execution_count": 11,
   "metadata": {},
   "outputs": [],
   "source": [
    "class_names=['T-shirt/top','Trouser','Pullover','Dress','Coat','Sandal','Shirt','Sneaker','Bag','Ankle boot']"
   ]
  },
  {
   "cell_type": "code",
   "execution_count": 17,
   "metadata": {},
   "outputs": [],
   "source": [
    "train_images=train_images/255.0\n",
    "test_images=test_images/255.0"
   ]
  },
  {
   "cell_type": "code",
   "execution_count": 18,
   "metadata": {},
   "outputs": [
    {
     "name": "stdout",
     "output_type": "stream",
     "text": [
      "[[0.         0.         0.         0.         0.         0.00392157\n",
      "  0.00392157 0.         0.         0.         0.         0.24705882\n",
      "  0.10980392 0.         0.         0.         0.12941176 0.33333333\n",
      "  0.         0.         0.         0.         0.         0.\n",
      "  0.         0.         0.         0.        ]\n",
      " [0.         0.         0.         0.         0.         0.00784314\n",
      "  0.         0.         0.10980392 0.49411765 0.94509804 1.\n",
      "  1.         1.         1.         1.         1.         0.98823529\n",
      "  0.97254902 0.43529412 0.         0.         0.         0.00784314\n",
      "  0.         0.         0.         0.        ]\n",
      " [0.         0.         0.         0.         0.00784314 0.\n",
      "  0.         0.80784314 0.95686275 0.98431373 0.94509804 0.90196078\n",
      "  0.93333333 0.86666667 0.80392157 0.90196078 0.94117647 0.90196078\n",
      "  0.9372549  0.98431373 0.91372549 0.64705882 0.         0.\n",
      "  0.00784314 0.         0.         0.        ]\n",
      " [0.         0.         0.         0.00392157 0.         0.\n",
      "  0.78039216 0.98431373 0.89411765 0.91764706 0.91372549 0.9254902\n",
      "  0.92156863 0.96078431 0.96862745 0.92941176 0.91764706 0.9372549\n",
      "  0.90196078 0.90196078 0.92156863 1.         0.69019608 0.\n",
      "  0.         0.00392157 0.         0.        ]\n",
      " [0.         0.         0.         0.         0.         0.31764706\n",
      "  0.99607843 0.88627451 0.89411765 0.9372549  0.92941176 0.9254902\n",
      "  0.91764706 0.90980392 0.91372549 0.92156863 0.92156863 0.9254902\n",
      "  0.9372549  0.92941176 0.91372549 0.88235294 0.96470588 0.28627451\n",
      "  0.         0.         0.         0.        ]\n",
      " [0.         0.         0.01176471 0.         0.         1.\n",
      "  0.92156863 0.9372549  0.8745098  0.91764706 0.93333333 0.9254902\n",
      "  0.92941176 0.9254902  0.92156863 0.92156863 0.92156863 0.92156863\n",
      "  0.9254902  0.92156863 0.91764706 0.90196078 0.90588235 1.\n",
      "  0.09411765 0.         0.01568627 0.        ]\n",
      " [0.         0.         0.         0.         0.69411765 0.9372549\n",
      "  0.8745098  0.99607843 0.8745098  0.90980392 0.91764706 0.91764706\n",
      "  0.9254902  0.9254902  0.92156863 0.92156863 0.92156863 0.92156863\n",
      "  0.92156863 0.91764706 0.90588235 0.91372549 0.87058824 0.96470588\n",
      "  0.34509804 0.         0.00392157 0.        ]\n",
      " [0.         0.         0.         0.         0.91764706 0.9372549\n",
      "  0.89803922 1.         0.8627451  0.90980392 0.91372549 0.90980392\n",
      "  0.91764706 0.92156863 0.92156863 0.92156863 0.92156863 0.92156863\n",
      "  0.91764706 0.91372549 0.90980392 0.90196078 0.89411765 0.99607843\n",
      "  0.54901961 0.         0.         0.        ]\n",
      " [0.         0.         0.         0.         0.88235294 0.94117647\n",
      "  0.88627451 1.         0.86666667 0.89019608 0.90980392 0.89411765\n",
      "  0.90588235 0.90196078 0.89411765 0.89803922 0.90588235 0.90196078\n",
      "  0.89411765 0.89411765 0.90980392 0.8745098  0.89803922 0.95686275\n",
      "  0.90588235 0.         0.         0.        ]\n",
      " [0.         0.         0.         0.18431373 0.96078431 0.90588235\n",
      "  0.91764706 0.97647059 0.89803922 0.86666667 0.89803922 0.88235294\n",
      "  0.89803922 0.89019608 0.88627451 0.89019608 0.89411765 0.89019608\n",
      "  0.89411765 0.89803922 0.89411765 0.87843137 0.96470588 0.94117647\n",
      "  0.89019608 0.         0.         0.        ]\n",
      " [0.         0.         0.         0.2        0.97254902 0.90196078\n",
      "  0.96078431 0.96470588 0.90196078 0.88627451 0.90196078 0.89019608\n",
      "  0.90196078 0.89803922 0.89411765 0.89803922 0.90196078 0.89411765\n",
      "  0.89411765 0.90588235 0.88235294 0.89019608 0.94901961 0.92941176\n",
      "  1.         0.         0.         0.        ]\n",
      " [0.         0.         0.         0.39607843 0.99215686 0.89803922\n",
      "  0.96862745 0.94509804 0.86666667 0.91372549 0.89411765 0.89019608\n",
      "  0.89803922 0.89411765 0.89019608 0.89411765 0.90196078 0.89019608\n",
      "  0.90196078 0.91764706 0.88235294 0.89803922 0.98431373 0.89803922\n",
      "  0.95294118 0.21568627 0.         0.        ]\n",
      " [0.         0.         0.         0.4        1.         0.89019608\n",
      "  0.94901961 0.94509804 0.86666667 0.91764706 0.8745098  0.90196078\n",
      "  0.89411765 0.90588235 0.89803922 0.90588235 0.90588235 0.89019608\n",
      "  0.89803922 0.94509804 0.85882353 0.9254902  0.99607843 0.88235294\n",
      "  0.98039216 0.65490196 0.         0.        ]\n",
      " [0.         0.         0.         0.35294118 1.         0.89803922\n",
      "  0.9254902  0.90588235 0.87058824 0.9254902  0.8745098  0.90588235\n",
      "  0.89803922 0.90588235 0.89803922 0.90588235 0.90588235 0.89411765\n",
      "  0.87843137 0.96078431 0.85490196 0.95294118 0.9372549  0.89019608\n",
      "  0.95686275 0.68627451 0.         0.        ]\n",
      " [0.         0.         0.         0.83137255 0.98039216 0.88235294\n",
      "  0.9254902  0.97647059 0.89803922 0.92941176 0.8745098  0.90588235\n",
      "  0.89803922 0.90588235 0.89803922 0.90588235 0.90588235 0.90196078\n",
      "  0.86666667 0.95294118 0.88235294 0.97254902 0.90196078 0.9254902\n",
      "  0.91764706 1.         0.00392157 0.        ]\n",
      " [0.         0.         0.         0.96078431 0.95294118 0.90980392\n",
      "  0.95294118 0.85490196 0.89411765 0.93333333 0.87058824 0.90588235\n",
      "  0.89803922 0.90588235 0.89803922 0.90588235 0.90588235 0.90196078\n",
      "  0.87058824 0.92941176 0.92941176 0.98823529 0.89803922 0.9372549\n",
      "  0.94117647 0.8745098  0.         0.        ]\n",
      " [0.         0.         0.10588235 1.         0.92156863 0.94901961\n",
      "  0.92941176 0.84705882 0.90196078 0.9254902  0.87843137 0.89803922\n",
      "  0.89019608 0.91372549 0.91372549 0.91372549 0.90196078 0.89411765\n",
      "  0.87843137 0.90196078 0.96078431 0.96862745 0.86666667 0.95294118\n",
      "  0.9372549  0.98823529 0.         0.        ]\n",
      " [0.         0.         0.34509804 1.         0.90980392 0.97254902\n",
      "  0.9254902  0.81568627 0.91764706 0.90588235 0.8745098  0.89019608\n",
      "  0.88627451 0.91372549 0.90980392 0.90980392 0.90196078 0.89411765\n",
      "  0.87843137 0.87843137 0.92156863 0.91372549 0.91764706 0.96862745\n",
      "  0.92156863 1.         0.         0.        ]\n",
      " [0.         0.         0.3254902  1.         0.88235294 0.98039216\n",
      "  0.92941176 0.87843137 0.9254902  0.89803922 0.88235294 0.88235294\n",
      "  0.89019608 0.92156863 0.89803922 0.90588235 0.90196078 0.90196078\n",
      "  0.89019608 0.86666667 0.89019608 0.86666667 0.9372549  0.98039216\n",
      "  0.90588235 1.         0.         0.        ]\n",
      " [0.         0.         0.07843137 1.         0.87843137 0.97254902\n",
      "  0.91764706 0.88627451 0.90980392 0.87058824 0.88235294 0.87843137\n",
      "  0.90588235 0.93333333 0.88627451 0.90196078 0.89411765 0.90196078\n",
      "  0.90196078 0.86666667 0.89803922 0.88235294 0.95686275 0.96470588\n",
      "  0.90196078 1.         0.         0.        ]\n",
      " [0.         0.         0.37254902 1.         0.85490196 0.94901961\n",
      "  1.         0.90980392 0.88627451 0.87843137 0.89803922 0.89411765\n",
      "  0.89411765 0.90980392 0.89411765 0.89803922 0.90588235 0.91372549\n",
      "  0.90980392 0.88627451 0.86666667 0.87843137 0.96862745 0.95686275\n",
      "  0.89411765 1.         0.         0.        ]\n",
      " [0.         0.         0.65490196 1.         0.83529412 0.92156863\n",
      "  1.         0.31764706 0.96078431 0.98431373 0.93333333 0.9254902\n",
      "  0.90196078 0.89803922 0.90196078 0.89803922 0.90196078 0.90588235\n",
      "  0.93333333 0.94117647 1.         0.75294118 1.         0.9372549\n",
      "  0.89411765 1.         0.09019608 0.        ]\n",
      " [0.         0.         0.67843137 0.94901961 0.87843137 0.91372549\n",
      "  1.         0.         0.53333333 0.88627451 0.9372549  1.\n",
      "  0.89803922 0.9254902  0.9254902  0.91764706 0.91372549 0.89411765\n",
      "  0.98431373 0.97254902 0.78431373 0.31764706 1.         0.92941176\n",
      "  0.88235294 1.         0.39607843 0.        ]\n",
      " [0.         0.         0.6745098  1.         0.88627451 0.91372549\n",
      "  1.         0.         0.         0.         0.         0.\n",
      "  0.03137255 0.08235294 0.08627451 0.08235294 0.07843137 0.05490196\n",
      "  0.         0.         0.         0.         1.         0.93333333\n",
      "  0.89803922 0.96470588 0.69803922 0.        ]\n",
      " [0.         0.         0.0627451  1.         0.9254902  0.93333333\n",
      "  0.98823529 0.         0.         0.         0.         0.\n",
      "  0.         0.         0.         0.         0.         0.\n",
      "  0.         0.         0.         0.         0.87058824 0.95686275\n",
      "  0.87058824 0.99607843 0.46666667 0.        ]\n",
      " [0.         0.         0.         0.11764706 0.89411765 0.94901961\n",
      "  0.63921569 0.         0.         0.         0.         0.00784314\n",
      "  0.01568627 0.02352941 0.01960784 0.01960784 0.01568627 0.01568627\n",
      "  0.00784314 0.         0.00392157 0.         0.59215686 0.98431373\n",
      "  0.92156863 0.70588235 0.         0.        ]\n",
      " [0.         0.         0.         0.         0.91764706 1.\n",
      "  0.74901961 0.         0.04313725 0.         0.         0.\n",
      "  0.         0.         0.         0.         0.         0.\n",
      "  0.         0.         0.01568627 0.         0.40392157 0.96470588\n",
      "  0.96862745 0.28235294 0.         0.        ]\n",
      " [0.         0.         0.         0.00392157 0.37254902 0.30196078\n",
      "  0.20392157 0.         0.01568627 0.         0.         0.\n",
      "  0.         0.         0.         0.         0.         0.\n",
      "  0.         0.         0.01176471 0.         0.32156863 0.92941176\n",
      "  0.90588235 0.2745098  0.         0.        ]]\n"
     ]
    }
   ],
   "source": [
    "print(train_images[7])"
   ]
  },
  {
   "cell_type": "code",
   "execution_count": 22,
   "metadata": {},
   "outputs": [
    {
     "data": {
      "image/png": "[encoded data removed]",
      "text/plain": [
       "<Figure size 640x480 with 1 Axes>"
      ]
     },
     "metadata": {},
     "output_type": "display_data"
    }
   ],
   "source": [
    "plt.imshow(train_images[7],cmap=plt.cm.binary)\n",
    "plt.show()"
   ]
  },
  {
   "cell_type": "code",
   "execution_count": null,
   "metadata": {},
   "outputs": [],
   "source": []
  }
 ],
 "metadata": {
  "kernelspec": {
   "display_name": "base",
   "language": "python",
   "name": "python3"
  },
  "language_info": {
   "codemirror_mode": {
    "name": "ipython",
    "version": 3
   },
   "file_extension": ".py",
   "mimetype": "text/x-python",
   "name": "python",
   "nbconvert_exporter": "python",
   "pygments_lexer": "ipython3",
   "version": "3.9.13"
  },
  "orig_nbformat": 4
 },
 "nbformat": 4,
 "nbformat_minor": 2
}
